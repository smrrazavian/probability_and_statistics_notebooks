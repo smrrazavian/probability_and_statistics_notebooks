{
 "cells": [
  {
   "cell_type": "code",
   "execution_count": 3,
   "metadata": {},
   "outputs": [],
   "source": [
    "# ---------------------- Imports ----------------------\n",
    "import matplotlib.pyplot as plt\n",
    "import seaborn as sns\n",
    "import warnings\n",
    "\n",
    "from IPython.display import Math, Latex\n",
    "from IPython.core.display import Image\n"
   ]
  },
  {
   "cell_type": "code",
   "execution_count": 4,
   "metadata": {},
   "outputs": [],
   "source": [
    "# Configurations:\n",
    "warnings.filterwarnings('ignore')\n",
    "%matplotlib inline\n",
    "sns.set(color_codes=True)\n",
    "sns.set(rc={'figure.figsize':(5,5)})"
   ]
  },
  {
   "cell_type": "markdown",
   "metadata": {},
   "source": [
    "## What is distributions?\n",
    "to answer this question you will need to understand the random variables.\n",
    "### Random variables:\n",
    "Frequently, when an experiment is performed, we are interested mainly in some func-\n",
    "tion of the outcome as opposed to the actual outcome itself. For instance, in tossing\n",
    "dice, we are often interested in the sum of the two dice and are not really concerned\n",
    "about the separate values of each die. That is, we may be interested in knowing\n",
    "that the sum is 7 and may not be concerned over whether the actual outcome was\n",
    "(1, 6), (2, 5), (3, 4), (4, 3), (5, 2), or (6, 1). Also, in ﬂipping a coin, we may be inter-\n",
    "ested in the total number of heads that occur and not care at all about the actual\n",
    "head–tail sequence that results. These quantities of interest, or, more formally, these\n",
    "real-valued functions deﬁned on the sample space, are known as random variables.\n",
    "Because the value of a random variable is determined by the outcome of the exper-\n",
    "iment, we may assign probabilities to the possible values of the random variable."
   ]
  }
 ],
 "metadata": {
  "kernelspec": {
   "display_name": "Python 3.8.10 ('.venv': venv)",
   "language": "python",
   "name": "python3"
  },
  "language_info": {
   "codemirror_mode": {
    "name": "ipython",
    "version": 3
   },
   "file_extension": ".py",
   "mimetype": "text/x-python",
   "name": "python",
   "nbconvert_exporter": "python",
   "pygments_lexer": "ipython3",
   "version": "3.8.10"
  },
  "orig_nbformat": 4,
  "vscode": {
   "interpreter": {
    "hash": "d951ba83a3a935c6ad213d8fce171a65f4ae9941a0e49e26c080fe756c56e9e7"
   }
  }
 },
 "nbformat": 4,
 "nbformat_minor": 2
}
